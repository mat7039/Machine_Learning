{
 "cells": [
  {
   "cell_type": "markdown",
   "id": "1b459c37",
   "metadata": {},
   "source": [
    "# Temat: Analiza danych dotyczących udaru mózgu\n",
    "    \n",
    "    autor: Maciej Krakowiak"
   ]
  },
  {
   "cell_type": "markdown",
   "id": "15127c01",
   "metadata": {},
   "source": [
    "#### Załadowanie niezbędnych modułów"
   ]
  },
  {
   "cell_type": "code",
   "execution_count": 1,
   "id": "e802f9da",
   "metadata": {},
   "outputs": [],
   "source": [
    "import pandas as pd\n",
    "import numpy as np\n",
    "import matplotlib.pyplot as plt\n",
    "import seaborn as sns\n",
    "from sklearn.preprocessing import LabelEncoder, OrdinalEncoder\n",
    "from sklearn.model_selection import train_test_split, GridSearchCV\n",
    "from sklearn.ensemble import RandomForestClassifier, GradientBoostingClassifier\n",
    "from sklearn.tree import DecisionTreeClassifier\n",
    "from sklearn.dummy import DummyClassifier\n",
    "from sklearn.linear_model import LogisticRegression\n",
    "from sklearn.metrics import accuracy_score, make_scorer, f1_score, recall_score, precision_score, fbeta_score, ConfusionMatrixDisplay, confusion_matrix\n"
   ]
  },
  {
   "cell_type": "markdown",
   "id": "5d989e74",
   "metadata": {},
   "source": [
    "#### Ustawienie ziarna dla reprodukowalności osiągniętych rezultatów"
   ]
  },
  {
   "cell_type": "code",
   "execution_count": 2,
   "id": "78d447af",
   "metadata": {},
   "outputs": [],
   "source": [
    "rng = 2030\n",
    "np.random.seed(rng)\n",
    "seed = np.random.RandomState(rng)"
   ]
  },
  {
   "cell_type": "markdown",
   "id": "8f9109a8",
   "metadata": {},
   "source": [
    "#### Ustawienia wykresów"
   ]
  },
  {
   "cell_type": "code",
   "execution_count": 3,
   "id": "2978028a",
   "metadata": {},
   "outputs": [],
   "source": [
    "sns.set(\n",
    "    rc={\n",
    "        \"figure.dpi\": 100,\n",
    "        \"savefig.dpi\": 300,\n",
    "        \"figure.figsize\": (9, 9),\n",
    "    }\n",
    ")"
   ]
  },
  {
   "cell_type": "markdown",
   "id": "5c7f5108",
   "metadata": {},
   "source": [
    "### Ładowanie danych"
   ]
  },
  {
   "cell_type": "code",
   "execution_count": 4,
   "id": "cef0c2c9",
   "metadata": {},
   "outputs": [],
   "source": [
    "df = pd.read_csv('healthcare-dataset-stroke-data.csv')"
   ]
  },
  {
   "cell_type": "markdown",
   "id": "c17d810a",
   "metadata": {},
   "source": [
    "#### Pierwszy rzut oka na dane"
   ]
  },
  {
   "cell_type": "code",
   "execution_count": 5,
   "id": "2ea829b2",
   "metadata": {},
   "outputs": [
    {
     "data": {
      "text/html": [
       "<div>\n",
       "<style scoped>\n",
       "    .dataframe tbody tr th:only-of-type {\n",
       "        vertical-align: middle;\n",
       "    }\n",
       "\n",
       "    .dataframe tbody tr th {\n",
       "        vertical-align: top;\n",
       "    }\n",
       "\n",
       "    .dataframe thead th {\n",
       "        text-align: right;\n",
       "    }\n",
       "</style>\n",
       "<table border=\"1\" class=\"dataframe\">\n",
       "  <thead>\n",
       "    <tr style=\"text-align: right;\">\n",
       "      <th></th>\n",
       "      <th>id</th>\n",
       "      <th>gender</th>\n",
       "      <th>age</th>\n",
       "      <th>hypertension</th>\n",
       "      <th>heart_disease</th>\n",
       "      <th>ever_married</th>\n",
       "      <th>work_type</th>\n",
       "      <th>Residence_type</th>\n",
       "      <th>avg_glucose_level</th>\n",
       "      <th>bmi</th>\n",
       "      <th>smoking_status</th>\n",
       "      <th>stroke</th>\n",
       "    </tr>\n",
       "  </thead>\n",
       "  <tbody>\n",
       "    <tr>\n",
       "      <th>0</th>\n",
       "      <td>9046</td>\n",
       "      <td>Male</td>\n",
       "      <td>67.0</td>\n",
       "      <td>0</td>\n",
       "      <td>1</td>\n",
       "      <td>Yes</td>\n",
       "      <td>Private</td>\n",
       "      <td>Urban</td>\n",
       "      <td>228.69</td>\n",
       "      <td>36.6</td>\n",
       "      <td>formerly smoked</td>\n",
       "      <td>1</td>\n",
       "    </tr>\n",
       "    <tr>\n",
       "      <th>1</th>\n",
       "      <td>51676</td>\n",
       "      <td>Female</td>\n",
       "      <td>61.0</td>\n",
       "      <td>0</td>\n",
       "      <td>0</td>\n",
       "      <td>Yes</td>\n",
       "      <td>Self-employed</td>\n",
       "      <td>Rural</td>\n",
       "      <td>202.21</td>\n",
       "      <td>NaN</td>\n",
       "      <td>never smoked</td>\n",
       "      <td>1</td>\n",
       "    </tr>\n",
       "    <tr>\n",
       "      <th>2</th>\n",
       "      <td>31112</td>\n",
       "      <td>Male</td>\n",
       "      <td>80.0</td>\n",
       "      <td>0</td>\n",
       "      <td>1</td>\n",
       "      <td>Yes</td>\n",
       "      <td>Private</td>\n",
       "      <td>Rural</td>\n",
       "      <td>105.92</td>\n",
       "      <td>32.5</td>\n",
       "      <td>never smoked</td>\n",
       "      <td>1</td>\n",
       "    </tr>\n",
       "    <tr>\n",
       "      <th>3</th>\n",
       "      <td>60182</td>\n",
       "      <td>Female</td>\n",
       "      <td>49.0</td>\n",
       "      <td>0</td>\n",
       "      <td>0</td>\n",
       "      <td>Yes</td>\n",
       "      <td>Private</td>\n",
       "      <td>Urban</td>\n",
       "      <td>171.23</td>\n",
       "      <td>34.4</td>\n",
       "      <td>smokes</td>\n",
       "      <td>1</td>\n",
       "    </tr>\n",
       "    <tr>\n",
       "      <th>4</th>\n",
       "      <td>1665</td>\n",
       "      <td>Female</td>\n",
       "      <td>79.0</td>\n",
       "      <td>1</td>\n",
       "      <td>0</td>\n",
       "      <td>Yes</td>\n",
       "      <td>Self-employed</td>\n",
       "      <td>Rural</td>\n",
       "      <td>174.12</td>\n",
       "      <td>24.0</td>\n",
       "      <td>never smoked</td>\n",
       "      <td>1</td>\n",
       "    </tr>\n",
       "  </tbody>\n",
       "</table>\n",
       "</div>"
      ],
      "text/plain": [
       "      id  gender   age  hypertension  heart_disease ever_married  \\\n",
       "0   9046    Male  67.0             0              1          Yes   \n",
       "1  51676  Female  61.0             0              0          Yes   \n",
       "2  31112    Male  80.0             0              1          Yes   \n",
       "3  60182  Female  49.0             0              0          Yes   \n",
       "4   1665  Female  79.0             1              0          Yes   \n",
       "\n",
       "       work_type Residence_type  avg_glucose_level   bmi   smoking_status  \\\n",
       "0        Private          Urban             228.69  36.6  formerly smoked   \n",
       "1  Self-employed          Rural             202.21   NaN     never smoked   \n",
       "2        Private          Rural             105.92  32.5     never smoked   \n",
       "3        Private          Urban             171.23  34.4           smokes   \n",
       "4  Self-employed          Rural             174.12  24.0     never smoked   \n",
       "\n",
       "   stroke  \n",
       "0       1  \n",
       "1       1  \n",
       "2       1  \n",
       "3       1  \n",
       "4       1  "
      ]
     },
     "execution_count": 5,
     "metadata": {},
     "output_type": "execute_result"
    }
   ],
   "source": [
    "df.head()"
   ]
  },
  {
   "cell_type": "markdown",
   "id": "f50205ca",
   "metadata": {},
   "source": [
    "## Czyszczenie danych\n",
    "\n",
    "Sprawdzenie czy występują brakujące wartości."
   ]
  },
  {
   "cell_type": "code",
   "execution_count": 6,
   "id": "d0819dde",
   "metadata": {},
   "outputs": [
    {
     "name": "stdout",
     "output_type": "stream",
     "text": [
      "<class 'pandas.core.frame.DataFrame'>\n",
      "RangeIndex: 5110 entries, 0 to 5109\n",
      "Data columns (total 12 columns):\n",
      " #   Column             Non-Null Count  Dtype  \n",
      "---  ------             --------------  -----  \n",
      " 0   id                 5110 non-null   int64  \n",
      " 1   gender             5110 non-null   object \n",
      " 2   age                5110 non-null   float64\n",
      " 3   hypertension       5110 non-null   int64  \n",
      " 4   heart_disease      5110 non-null   int64  \n",
      " 5   ever_married       5110 non-null   object \n",
      " 6   work_type          5110 non-null   object \n",
      " 7   Residence_type     5110 non-null   object \n",
      " 8   avg_glucose_level  5110 non-null   float64\n",
      " 9   bmi                4909 non-null   float64\n",
      " 10  smoking_status     5110 non-null   object \n",
      " 11  stroke             5110 non-null   int64  \n",
      "dtypes: float64(3), int64(4), object(5)\n",
      "memory usage: 479.2+ KB\n"
     ]
    }
   ],
   "source": [
    "df.info()"
   ]
  },
  {
   "cell_type": "markdown",
   "id": "82fd6050",
   "metadata": {},
   "source": [
    "Można zauważyć, że w kolumnie 'bmi' znajduje się 201 brakujących wartości."
   ]
  },
  {
   "cell_type": "code",
   "execution_count": 7,
   "id": "8cf37dca",
   "metadata": {},
   "outputs": [
    {
     "data": {
      "text/plain": [
       "0.03933463796477495"
      ]
     },
     "execution_count": 7,
     "metadata": {},
     "output_type": "execute_result"
    }
   ],
   "source": [
    "(5110 - 4909) / 5110"
   ]
  },
  {
   "cell_type": "markdown",
   "id": "0f3c4ba0",
   "metadata": {},
   "source": [
    "Brakujące wartości stanowią zaledwie 3.9% wszystkich wartości"
   ]
  },
  {
   "cell_type": "markdown",
   "id": "f78b1e12",
   "metadata": {},
   "source": [
    "#### Podgląd podstawowych miar statystycznych kolumn\n",
    "\n",
    "Dla całości danych:"
   ]
  },
  {
   "cell_type": "code",
   "execution_count": 8,
   "id": "14c631af",
   "metadata": {},
   "outputs": [
    {
     "data": {
      "text/html": [
       "<div>\n",
       "<style scoped>\n",
       "    .dataframe tbody tr th:only-of-type {\n",
       "        vertical-align: middle;\n",
       "    }\n",
       "\n",
       "    .dataframe tbody tr th {\n",
       "        vertical-align: top;\n",
       "    }\n",
       "\n",
       "    .dataframe thead th {\n",
       "        text-align: right;\n",
       "    }\n",
       "</style>\n",
       "<table border=\"1\" class=\"dataframe\">\n",
       "  <thead>\n",
       "    <tr style=\"text-align: right;\">\n",
       "      <th></th>\n",
       "      <th>id</th>\n",
       "      <th>age</th>\n",
       "      <th>hypertension</th>\n",
       "      <th>heart_disease</th>\n",
       "      <th>avg_glucose_level</th>\n",
       "      <th>bmi</th>\n",
       "      <th>stroke</th>\n",
       "    </tr>\n",
       "  </thead>\n",
       "  <tbody>\n",
       "    <tr>\n",
       "      <th>count</th>\n",
       "      <td>5110.000000</td>\n",
       "      <td>5110.000000</td>\n",
       "      <td>5110.000000</td>\n",
       "      <td>5110.000000</td>\n",
       "      <td>5110.000000</td>\n",
       "      <td>4909.000000</td>\n",
       "      <td>5110.000000</td>\n",
       "    </tr>\n",
       "    <tr>\n",
       "      <th>mean</th>\n",
       "      <td>36517.829354</td>\n",
       "      <td>43.226614</td>\n",
       "      <td>0.097456</td>\n",
       "      <td>0.054012</td>\n",
       "      <td>106.147677</td>\n",
       "      <td>28.893237</td>\n",
       "      <td>0.048728</td>\n",
       "    </tr>\n",
       "    <tr>\n",
       "      <th>std</th>\n",
       "      <td>21161.721625</td>\n",
       "      <td>22.612647</td>\n",
       "      <td>0.296607</td>\n",
       "      <td>0.226063</td>\n",
       "      <td>45.283560</td>\n",
       "      <td>7.854067</td>\n",
       "      <td>0.215320</td>\n",
       "    </tr>\n",
       "    <tr>\n",
       "      <th>min</th>\n",
       "      <td>67.000000</td>\n",
       "      <td>0.080000</td>\n",
       "      <td>0.000000</td>\n",
       "      <td>0.000000</td>\n",
       "      <td>55.120000</td>\n",
       "      <td>10.300000</td>\n",
       "      <td>0.000000</td>\n",
       "    </tr>\n",
       "    <tr>\n",
       "      <th>25%</th>\n",
       "      <td>17741.250000</td>\n",
       "      <td>25.000000</td>\n",
       "      <td>0.000000</td>\n",
       "      <td>0.000000</td>\n",
       "      <td>77.245000</td>\n",
       "      <td>23.500000</td>\n",
       "      <td>0.000000</td>\n",
       "    </tr>\n",
       "    <tr>\n",
       "      <th>50%</th>\n",
       "      <td>36932.000000</td>\n",
       "      <td>45.000000</td>\n",
       "      <td>0.000000</td>\n",
       "      <td>0.000000</td>\n",
       "      <td>91.885000</td>\n",
       "      <td>28.100000</td>\n",
       "      <td>0.000000</td>\n",
       "    </tr>\n",
       "    <tr>\n",
       "      <th>75%</th>\n",
       "      <td>54682.000000</td>\n",
       "      <td>61.000000</td>\n",
       "      <td>0.000000</td>\n",
       "      <td>0.000000</td>\n",
       "      <td>114.090000</td>\n",
       "      <td>33.100000</td>\n",
       "      <td>0.000000</td>\n",
       "    </tr>\n",
       "    <tr>\n",
       "      <th>max</th>\n",
       "      <td>72940.000000</td>\n",
       "      <td>82.000000</td>\n",
       "      <td>1.000000</td>\n",
       "      <td>1.000000</td>\n",
       "      <td>271.740000</td>\n",
       "      <td>97.600000</td>\n",
       "      <td>1.000000</td>\n",
       "    </tr>\n",
       "  </tbody>\n",
       "</table>\n",
       "</div>"
      ],
      "text/plain": [
       "                 id          age  hypertension  heart_disease  \\\n",
       "count   5110.000000  5110.000000   5110.000000    5110.000000   \n",
       "mean   36517.829354    43.226614      0.097456       0.054012   \n",
       "std    21161.721625    22.612647      0.296607       0.226063   \n",
       "min       67.000000     0.080000      0.000000       0.000000   \n",
       "25%    17741.250000    25.000000      0.000000       0.000000   \n",
       "50%    36932.000000    45.000000      0.000000       0.000000   \n",
       "75%    54682.000000    61.000000      0.000000       0.000000   \n",
       "max    72940.000000    82.000000      1.000000       1.000000   \n",
       "\n",
       "       avg_glucose_level          bmi       stroke  \n",
       "count        5110.000000  4909.000000  5110.000000  \n",
       "mean          106.147677    28.893237     0.048728  \n",
       "std            45.283560     7.854067     0.215320  \n",
       "min            55.120000    10.300000     0.000000  \n",
       "25%            77.245000    23.500000     0.000000  \n",
       "50%            91.885000    28.100000     0.000000  \n",
       "75%           114.090000    33.100000     0.000000  \n",
       "max           271.740000    97.600000     1.000000  "
      ]
     },
     "execution_count": 8,
     "metadata": {},
     "output_type": "execute_result"
    }
   ],
   "source": [
    "df.describe()"
   ]
  },
  {
   "cell_type": "markdown",
   "id": "1f3572f8",
   "metadata": {},
   "source": [
    "Dla danych, w których wierszach znajdują się wartości brakujące 'bmi':"
   ]
  },
  {
   "cell_type": "code",
   "execution_count": 9,
   "id": "26bbbb71",
   "metadata": {},
   "outputs": [
    {
     "data": {
      "text/html": [
       "<div>\n",
       "<style scoped>\n",
       "    .dataframe tbody tr th:only-of-type {\n",
       "        vertical-align: middle;\n",
       "    }\n",
       "\n",
       "    .dataframe tbody tr th {\n",
       "        vertical-align: top;\n",
       "    }\n",
       "\n",
       "    .dataframe thead th {\n",
       "        text-align: right;\n",
       "    }\n",
       "</style>\n",
       "<table border=\"1\" class=\"dataframe\">\n",
       "  <thead>\n",
       "    <tr style=\"text-align: right;\">\n",
       "      <th></th>\n",
       "      <th>id</th>\n",
       "      <th>age</th>\n",
       "      <th>hypertension</th>\n",
       "      <th>heart_disease</th>\n",
       "      <th>avg_glucose_level</th>\n",
       "      <th>bmi</th>\n",
       "      <th>stroke</th>\n",
       "    </tr>\n",
       "  </thead>\n",
       "  <tbody>\n",
       "    <tr>\n",
       "      <th>count</th>\n",
       "      <td>201.000000</td>\n",
       "      <td>201.000000</td>\n",
       "      <td>201.000000</td>\n",
       "      <td>201.000000</td>\n",
       "      <td>201.000000</td>\n",
       "      <td>0.0</td>\n",
       "      <td>201.000000</td>\n",
       "    </tr>\n",
       "    <tr>\n",
       "      <th>mean</th>\n",
       "      <td>23171.109453</td>\n",
       "      <td>52.049154</td>\n",
       "      <td>0.233831</td>\n",
       "      <td>0.164179</td>\n",
       "      <td>126.724627</td>\n",
       "      <td>NaN</td>\n",
       "      <td>0.199005</td>\n",
       "    </tr>\n",
       "    <tr>\n",
       "      <th>std</th>\n",
       "      <td>20882.483120</td>\n",
       "      <td>22.276181</td>\n",
       "      <td>0.424323</td>\n",
       "      <td>0.371363</td>\n",
       "      <td>59.240322</td>\n",
       "      <td>NaN</td>\n",
       "      <td>0.400249</td>\n",
       "    </tr>\n",
       "    <tr>\n",
       "      <th>min</th>\n",
       "      <td>67.000000</td>\n",
       "      <td>0.480000</td>\n",
       "      <td>0.000000</td>\n",
       "      <td>0.000000</td>\n",
       "      <td>57.520000</td>\n",
       "      <td>NaN</td>\n",
       "      <td>0.000000</td>\n",
       "    </tr>\n",
       "    <tr>\n",
       "      <th>25%</th>\n",
       "      <td>4062.000000</td>\n",
       "      <td>37.000000</td>\n",
       "      <td>0.000000</td>\n",
       "      <td>0.000000</td>\n",
       "      <td>81.430000</td>\n",
       "      <td>NaN</td>\n",
       "      <td>0.000000</td>\n",
       "    </tr>\n",
       "    <tr>\n",
       "      <th>50%</th>\n",
       "      <td>18234.000000</td>\n",
       "      <td>58.000000</td>\n",
       "      <td>0.000000</td>\n",
       "      <td>0.000000</td>\n",
       "      <td>99.870000</td>\n",
       "      <td>NaN</td>\n",
       "      <td>0.000000</td>\n",
       "    </tr>\n",
       "    <tr>\n",
       "      <th>75%</th>\n",
       "      <td>37937.000000</td>\n",
       "      <td>71.000000</td>\n",
       "      <td>0.000000</td>\n",
       "      <td>0.000000</td>\n",
       "      <td>191.790000</td>\n",
       "      <td>NaN</td>\n",
       "      <td>0.000000</td>\n",
       "    </tr>\n",
       "    <tr>\n",
       "      <th>max</th>\n",
       "      <td>72231.000000</td>\n",
       "      <td>82.000000</td>\n",
       "      <td>1.000000</td>\n",
       "      <td>1.000000</td>\n",
       "      <td>260.850000</td>\n",
       "      <td>NaN</td>\n",
       "      <td>1.000000</td>\n",
       "    </tr>\n",
       "  </tbody>\n",
       "</table>\n",
       "</div>"
      ],
      "text/plain": [
       "                 id         age  hypertension  heart_disease  \\\n",
       "count    201.000000  201.000000    201.000000     201.000000   \n",
       "mean   23171.109453   52.049154      0.233831       0.164179   \n",
       "std    20882.483120   22.276181      0.424323       0.371363   \n",
       "min       67.000000    0.480000      0.000000       0.000000   \n",
       "25%     4062.000000   37.000000      0.000000       0.000000   \n",
       "50%    18234.000000   58.000000      0.000000       0.000000   \n",
       "75%    37937.000000   71.000000      0.000000       0.000000   \n",
       "max    72231.000000   82.000000      1.000000       1.000000   \n",
       "\n",
       "       avg_glucose_level  bmi      stroke  \n",
       "count         201.000000  0.0  201.000000  \n",
       "mean          126.724627  NaN    0.199005  \n",
       "std            59.240322  NaN    0.400249  \n",
       "min            57.520000  NaN    0.000000  \n",
       "25%            81.430000  NaN    0.000000  \n",
       "50%            99.870000  NaN    0.000000  \n",
       "75%           191.790000  NaN    0.000000  \n",
       "max           260.850000  NaN    1.000000  "
      ]
     },
     "execution_count": 9,
     "metadata": {},
     "output_type": "execute_result"
    }
   ],
   "source": [
    "df[df['bmi'].isna()].describe()"
   ]
  },
  {
   "cell_type": "markdown",
   "id": "2fdc2560",
   "metadata": {},
   "source": [
    "#### Ponieważ brakujące wartości 'bmi' zdają się być wartościami MCAR (missing completely at random), a stanowią mniej niż 4% danych, postanowiłem dokonać imputacji za pomocą mediany"
   ]
  },
  {
   "cell_type": "code",
   "execution_count": 10,
   "id": "68efdcb3",
   "metadata": {},
   "outputs": [],
   "source": [
    "df.fillna(value=df['bmi'].median(), inplace=True)"
   ]
  },
  {
   "cell_type": "code",
   "execution_count": 11,
   "id": "f2d91bd6",
   "metadata": {},
   "outputs": [
    {
     "data": {
      "text/plain": [
       "id                   0\n",
       "gender               0\n",
       "age                  0\n",
       "hypertension         0\n",
       "heart_disease        0\n",
       "ever_married         0\n",
       "work_type            0\n",
       "Residence_type       0\n",
       "avg_glucose_level    0\n",
       "bmi                  0\n",
       "smoking_status       0\n",
       "stroke               0\n",
       "dtype: int64"
      ]
     },
     "execution_count": 11,
     "metadata": {},
     "output_type": "execute_result"
    }
   ],
   "source": [
    "df.isnull().sum()"
   ]
  },
  {
   "cell_type": "markdown",
   "id": "b4a88894",
   "metadata": {},
   "source": [
    "## Eksploracyjna analiza danych - EDA"
   ]
  },
  {
   "cell_type": "code",
   "execution_count": 12,
   "id": "6e845ca4",
   "metadata": {},
   "outputs": [
    {
     "data": {
      "text/html": [
       "<div>\n",
       "<style scoped>\n",
       "    .dataframe tbody tr th:only-of-type {\n",
       "        vertical-align: middle;\n",
       "    }\n",
       "\n",
       "    .dataframe tbody tr th {\n",
       "        vertical-align: top;\n",
       "    }\n",
       "\n",
       "    .dataframe thead th {\n",
       "        text-align: right;\n",
       "    }\n",
       "</style>\n",
       "<table border=\"1\" class=\"dataframe\">\n",
       "  <thead>\n",
       "    <tr style=\"text-align: right;\">\n",
       "      <th></th>\n",
       "      <th>id</th>\n",
       "      <th>gender</th>\n",
       "      <th>age</th>\n",
       "      <th>hypertension</th>\n",
       "      <th>heart_disease</th>\n",
       "      <th>ever_married</th>\n",
       "      <th>work_type</th>\n",
       "      <th>Residence_type</th>\n",
       "      <th>avg_glucose_level</th>\n",
       "      <th>bmi</th>\n",
       "      <th>smoking_status</th>\n",
       "      <th>stroke</th>\n",
       "    </tr>\n",
       "  </thead>\n",
       "  <tbody>\n",
       "    <tr>\n",
       "      <th>0</th>\n",
       "      <td>9046</td>\n",
       "      <td>Male</td>\n",
       "      <td>67.0</td>\n",
       "      <td>0</td>\n",
       "      <td>1</td>\n",
       "      <td>Yes</td>\n",
       "      <td>Private</td>\n",
       "      <td>Urban</td>\n",
       "      <td>228.69</td>\n",
       "      <td>36.6</td>\n",
       "      <td>formerly smoked</td>\n",
       "      <td>1</td>\n",
       "    </tr>\n",
       "    <tr>\n",
       "      <th>1</th>\n",
       "      <td>51676</td>\n",
       "      <td>Female</td>\n",
       "      <td>61.0</td>\n",
       "      <td>0</td>\n",
       "      <td>0</td>\n",
       "      <td>Yes</td>\n",
       "      <td>Self-employed</td>\n",
       "      <td>Rural</td>\n",
       "      <td>202.21</td>\n",
       "      <td>28.1</td>\n",
       "      <td>never smoked</td>\n",
       "      <td>1</td>\n",
       "    </tr>\n",
       "    <tr>\n",
       "      <th>2</th>\n",
       "      <td>31112</td>\n",
       "      <td>Male</td>\n",
       "      <td>80.0</td>\n",
       "      <td>0</td>\n",
       "      <td>1</td>\n",
       "      <td>Yes</td>\n",
       "      <td>Private</td>\n",
       "      <td>Rural</td>\n",
       "      <td>105.92</td>\n",
       "      <td>32.5</td>\n",
       "      <td>never smoked</td>\n",
       "      <td>1</td>\n",
       "    </tr>\n",
       "    <tr>\n",
       "      <th>3</th>\n",
       "      <td>60182</td>\n",
       "      <td>Female</td>\n",
       "      <td>49.0</td>\n",
       "      <td>0</td>\n",
       "      <td>0</td>\n",
       "      <td>Yes</td>\n",
       "      <td>Private</td>\n",
       "      <td>Urban</td>\n",
       "      <td>171.23</td>\n",
       "      <td>34.4</td>\n",
       "      <td>smokes</td>\n",
       "      <td>1</td>\n",
       "    </tr>\n",
       "    <tr>\n",
       "      <th>4</th>\n",
       "      <td>1665</td>\n",
       "      <td>Female</td>\n",
       "      <td>79.0</td>\n",
       "      <td>1</td>\n",
       "      <td>0</td>\n",
       "      <td>Yes</td>\n",
       "      <td>Self-employed</td>\n",
       "      <td>Rural</td>\n",
       "      <td>174.12</td>\n",
       "      <td>24.0</td>\n",
       "      <td>never smoked</td>\n",
       "      <td>1</td>\n",
       "    </tr>\n",
       "  </tbody>\n",
       "</table>\n",
       "</div>"
      ],
      "text/plain": [
       "      id  gender   age  hypertension  heart_disease ever_married  \\\n",
       "0   9046    Male  67.0             0              1          Yes   \n",
       "1  51676  Female  61.0             0              0          Yes   \n",
       "2  31112    Male  80.0             0              1          Yes   \n",
       "3  60182  Female  49.0             0              0          Yes   \n",
       "4   1665  Female  79.0             1              0          Yes   \n",
       "\n",
       "       work_type Residence_type  avg_glucose_level   bmi   smoking_status  \\\n",
       "0        Private          Urban             228.69  36.6  formerly smoked   \n",
       "1  Self-employed          Rural             202.21  28.1     never smoked   \n",
       "2        Private          Rural             105.92  32.5     never smoked   \n",
       "3        Private          Urban             171.23  34.4           smokes   \n",
       "4  Self-employed          Rural             174.12  24.0     never smoked   \n",
       "\n",
       "   stroke  \n",
       "0       1  \n",
       "1       1  \n",
       "2       1  \n",
       "3       1  \n",
       "4       1  "
      ]
     },
     "execution_count": 12,
     "metadata": {},
     "output_type": "execute_result"
    }
   ],
   "source": [
    "df.head()"
   ]
  },
  {
   "cell_type": "markdown",
   "id": "5baafa56",
   "metadata": {},
   "source": [
    "#### Ujednolicenie systemu nazw kolumn\n",
    "Dla ułatwienia przyszłej eksploracji danych - wszystkie kolumny mają zaczynać się z małej litery"
   ]
  },
  {
   "cell_type": "code",
   "execution_count": 13,
   "id": "c2cbe662",
   "metadata": {},
   "outputs": [],
   "source": [
    "df.rename(columns= {'Residence_type' : 'residence_type'}, inplace=True)"
   ]
  },
  {
   "cell_type": "markdown",
   "id": "ec5212a6",
   "metadata": {},
   "source": [
    "#### Ustawienie kolumny 'id' jako indeksu"
   ]
  },
  {
   "cell_type": "code",
   "execution_count": 14,
   "id": "56eb86ec",
   "metadata": {},
   "outputs": [],
   "source": [
    "df.set_index('id', inplace=True)"
   ]
  },
  {
   "cell_type": "markdown",
   "id": "48945075",
   "metadata": {},
   "source": [
    "#### Zaznajomienie się z rozkładem kategorii w zmiennych kategorycznych"
   ]
  },
  {
   "cell_type": "code",
   "execution_count": 15,
   "id": "30d7d9e2",
   "metadata": {},
   "outputs": [
    {
     "name": "stdout",
     "output_type": "stream",
     "text": [
      "Female    2994\n",
      "Male      2115\n",
      "Other        1\n",
      "Name: gender, dtype: int64\n",
      "0    4612\n",
      "1     498\n",
      "Name: hypertension, dtype: int64\n",
      "0    4834\n",
      "1     276\n",
      "Name: heart_disease, dtype: int64\n",
      "Yes    3353\n",
      "No     1757\n",
      "Name: ever_married, dtype: int64\n",
      "Private          2925\n",
      "Self-employed     819\n",
      "children          687\n",
      "Govt_job          657\n",
      "Never_worked       22\n",
      "Name: work_type, dtype: int64\n",
      "Urban    2596\n",
      "Rural    2514\n",
      "Name: residence_type, dtype: int64\n",
      "never smoked       1892\n",
      "Unknown            1544\n",
      "formerly smoked     885\n",
      "smokes              789\n",
      "Name: smoking_status, dtype: int64\n",
      "0    4861\n",
      "1     249\n",
      "Name: stroke, dtype: int64\n"
     ]
    }
   ],
   "source": [
    "categorical_columns = ['gender', 'hypertension', 'heart_disease', 'ever_married', 'work_type', 'residence_type', 'smoking_status', 'stroke']\n",
    "for column in categorical_columns:\n",
    "    print(df[column].value_counts())"
   ]
  },
  {
   "cell_type": "markdown",
   "id": "a2259a9b",
   "metadata": {},
   "source": [
    "##### Aby uniknąć niepotrzebnych anomalii w modelowaniu, postanowiłem wprowadzić następujące zmiany:\n",
    "    'gender': kategorię 'Other' (1 rekord) zmienić na najczęściej występującą kategorię ('Female')\n",
    "    'work_type': kategorię 'Never_worked' (22 rekordy) zmienić na najczęściej występującą kategorię ('Private')"
   ]
  },
  {
   "cell_type": "code",
   "execution_count": 16,
   "id": "4408902f",
   "metadata": {},
   "outputs": [],
   "source": [
    "ind = df.query('gender == \"Other\"').index\n",
    "df.loc[ind, 'gender'] = 'Female'"
   ]
  },
  {
   "cell_type": "code",
   "execution_count": 17,
   "id": "2c738195",
   "metadata": {},
   "outputs": [],
   "source": [
    "for ind in df.query('work_type == \"Never_worked\"').index:\n",
    "    df.loc[ind, 'work_type'] = 'Private'"
   ]
  },
  {
   "cell_type": "code",
   "execution_count": 18,
   "id": "30095034",
   "metadata": {},
   "outputs": [
    {
     "data": {
      "text/plain": [
       "Female    2995\n",
       "Male      2115\n",
       "Name: gender, dtype: int64"
      ]
     },
     "execution_count": 18,
     "metadata": {},
     "output_type": "execute_result"
    }
   ],
   "source": [
    "df['gender'].value_counts()"
   ]
  },
  {
   "cell_type": "code",
   "execution_count": 19,
   "id": "ff358746",
   "metadata": {},
   "outputs": [
    {
     "data": {
      "text/plain": [
       "Private          2947\n",
       "Self-employed     819\n",
       "children          687\n",
       "Govt_job          657\n",
       "Name: work_type, dtype: int64"
      ]
     },
     "execution_count": 19,
     "metadata": {},
     "output_type": "execute_result"
    }
   ],
   "source": [
    "df['work_type'].value_counts()"
   ]
  },
  {
   "cell_type": "markdown",
   "id": "6a55027c",
   "metadata": {},
   "source": [
    "#### Kodowanie zmiennych kategorycznych"
   ]
  },
  {
   "cell_type": "markdown",
   "id": "62c572fe",
   "metadata": {},
   "source": [
    "Przyglądając się danym można zwrócić uwagę na to, że mamy przewagę zmiennych kategorycznych (gender, hypertension, heart_disease, ever_married, work_type, Residence_type, smoking_status), jednak tylko niektóre z nich (hypertension, heart_disease, stroke) są zakodowane liczbowo, aby móc przyjrzeć się korelacjom i rozważyć możliwość usunięcia niektórych kolumn należy ujednolicić kodowanie zmiennych kategorycznych\n",
    "\n",
    "LabelEncoder dla zmiennych, w których kolejność kategorii nie ma znaczenia\n",
    "\n",
    "OrdinalEncoder dla zmiennych (zmiennej 'Smoking_status'), dla których kolejność występowania kategorii ma znaczenie (jest hierarchia)"
   ]
  },
  {
   "cell_type": "code",
   "execution_count": 20,
   "id": "20fd023d",
   "metadata": {},
   "outputs": [],
   "source": [
    "label = ['gender', 'ever_married', 'work_type', 'residence_type']\n",
    "ordinal = ['smoking_status']"
   ]
  },
  {
   "cell_type": "code",
   "execution_count": 21,
   "id": "e6fb4d61",
   "metadata": {},
   "outputs": [],
   "source": [
    "for col in label:\n",
    "    df[col] = LabelEncoder().fit_transform(df[col])"
   ]
  },
  {
   "cell_type": "code",
   "execution_count": 22,
   "id": "dbd9bff0",
   "metadata": {},
   "outputs": [],
   "source": [
    "df['smoking_status'] = OrdinalEncoder().fit_transform(df.loc[:, ['smoking_status']])"
   ]
  },
  {
   "cell_type": "code",
   "execution_count": 23,
   "id": "4955a312",
   "metadata": {},
   "outputs": [
    {
     "data": {
      "text/html": [
       "<div>\n",
       "<style scoped>\n",
       "    .dataframe tbody tr th:only-of-type {\n",
       "        vertical-align: middle;\n",
       "    }\n",
       "\n",
       "    .dataframe tbody tr th {\n",
       "        vertical-align: top;\n",
       "    }\n",
       "\n",
       "    .dataframe thead th {\n",
       "        text-align: right;\n",
       "    }\n",
       "</style>\n",
       "<table border=\"1\" class=\"dataframe\">\n",
       "  <thead>\n",
       "    <tr style=\"text-align: right;\">\n",
       "      <th></th>\n",
       "      <th>gender</th>\n",
       "      <th>age</th>\n",
       "      <th>hypertension</th>\n",
       "      <th>heart_disease</th>\n",
       "      <th>ever_married</th>\n",
       "      <th>work_type</th>\n",
       "      <th>residence_type</th>\n",
       "      <th>avg_glucose_level</th>\n",
       "      <th>bmi</th>\n",
       "      <th>smoking_status</th>\n",
       "      <th>stroke</th>\n",
       "    </tr>\n",
       "    <tr>\n",
       "      <th>id</th>\n",
       "      <th></th>\n",
       "      <th></th>\n",
       "      <th></th>\n",
       "      <th></th>\n",
       "      <th></th>\n",
       "      <th></th>\n",
       "      <th></th>\n",
       "      <th></th>\n",
       "      <th></th>\n",
       "      <th></th>\n",
       "      <th></th>\n",
       "    </tr>\n",
       "  </thead>\n",
       "  <tbody>\n",
       "    <tr>\n",
       "      <th>9046</th>\n",
       "      <td>1</td>\n",
       "      <td>67.0</td>\n",
       "      <td>0</td>\n",
       "      <td>1</td>\n",
       "      <td>1</td>\n",
       "      <td>1</td>\n",
       "      <td>1</td>\n",
       "      <td>228.69</td>\n",
       "      <td>36.6</td>\n",
       "      <td>1.0</td>\n",
       "      <td>1</td>\n",
       "    </tr>\n",
       "    <tr>\n",
       "      <th>51676</th>\n",
       "      <td>0</td>\n",
       "      <td>61.0</td>\n",
       "      <td>0</td>\n",
       "      <td>0</td>\n",
       "      <td>1</td>\n",
       "      <td>2</td>\n",
       "      <td>0</td>\n",
       "      <td>202.21</td>\n",
       "      <td>28.1</td>\n",
       "      <td>2.0</td>\n",
       "      <td>1</td>\n",
       "    </tr>\n",
       "    <tr>\n",
       "      <th>31112</th>\n",
       "      <td>1</td>\n",
       "      <td>80.0</td>\n",
       "      <td>0</td>\n",
       "      <td>1</td>\n",
       "      <td>1</td>\n",
       "      <td>1</td>\n",
       "      <td>0</td>\n",
       "      <td>105.92</td>\n",
       "      <td>32.5</td>\n",
       "      <td>2.0</td>\n",
       "      <td>1</td>\n",
       "    </tr>\n",
       "    <tr>\n",
       "      <th>60182</th>\n",
       "      <td>0</td>\n",
       "      <td>49.0</td>\n",
       "      <td>0</td>\n",
       "      <td>0</td>\n",
       "      <td>1</td>\n",
       "      <td>1</td>\n",
       "      <td>1</td>\n",
       "      <td>171.23</td>\n",
       "      <td>34.4</td>\n",
       "      <td>3.0</td>\n",
       "      <td>1</td>\n",
       "    </tr>\n",
       "    <tr>\n",
       "      <th>1665</th>\n",
       "      <td>0</td>\n",
       "      <td>79.0</td>\n",
       "      <td>1</td>\n",
       "      <td>0</td>\n",
       "      <td>1</td>\n",
       "      <td>2</td>\n",
       "      <td>0</td>\n",
       "      <td>174.12</td>\n",
       "      <td>24.0</td>\n",
       "      <td>2.0</td>\n",
       "      <td>1</td>\n",
       "    </tr>\n",
       "  </tbody>\n",
       "</table>\n",
       "</div>"
      ],
      "text/plain": [
       "       gender   age  hypertension  heart_disease  ever_married  work_type  \\\n",
       "id                                                                          \n",
       "9046        1  67.0             0              1             1          1   \n",
       "51676       0  61.0             0              0             1          2   \n",
       "31112       1  80.0             0              1             1          1   \n",
       "60182       0  49.0             0              0             1          1   \n",
       "1665        0  79.0             1              0             1          2   \n",
       "\n",
       "       residence_type  avg_glucose_level   bmi  smoking_status  stroke  \n",
       "id                                                                      \n",
       "9046                1             228.69  36.6             1.0       1  \n",
       "51676               0             202.21  28.1             2.0       1  \n",
       "31112               0             105.92  32.5             2.0       1  \n",
       "60182               1             171.23  34.4             3.0       1  \n",
       "1665                0             174.12  24.0             2.0       1  "
      ]
     },
     "execution_count": 23,
     "metadata": {},
     "output_type": "execute_result"
    }
   ],
   "source": [
    "df.head()"
   ]
  },
  {
   "cell_type": "code",
   "execution_count": 24,
   "id": "a2ef9a73",
   "metadata": {},
   "outputs": [
    {
     "name": "stdout",
     "output_type": "stream",
     "text": [
      "<class 'pandas.core.frame.DataFrame'>\n",
      "Int64Index: 5110 entries, 9046 to 44679\n",
      "Data columns (total 11 columns):\n",
      " #   Column             Non-Null Count  Dtype  \n",
      "---  ------             --------------  -----  \n",
      " 0   gender             5110 non-null   int32  \n",
      " 1   age                5110 non-null   float64\n",
      " 2   hypertension       5110 non-null   int64  \n",
      " 3   heart_disease      5110 non-null   int64  \n",
      " 4   ever_married       5110 non-null   int32  \n",
      " 5   work_type          5110 non-null   int32  \n",
      " 6   residence_type     5110 non-null   int32  \n",
      " 7   avg_glucose_level  5110 non-null   float64\n",
      " 8   bmi                5110 non-null   float64\n",
      " 9   smoking_status     5110 non-null   float64\n",
      " 10  stroke             5110 non-null   int64  \n",
      "dtypes: float64(4), int32(4), int64(3)\n",
      "memory usage: 528.3 KB\n"
     ]
    }
   ],
   "source": [
    "df.info()"
   ]
  },
  {
   "cell_type": "markdown",
   "id": "459118e8",
   "metadata": {},
   "source": [
    "#### Zmienienie typu danych zawierających zmienne kategoryczne na 'category'"
   ]
  },
  {
   "cell_type": "code",
   "execution_count": 25,
   "id": "466a71b7",
   "metadata": {},
   "outputs": [],
   "source": [
    "for column in categorical_columns:\n",
    "    df[column] = df[column].astype('category')"
   ]
  },
  {
   "cell_type": "code",
   "execution_count": 26,
   "id": "a4c82a93",
   "metadata": {},
   "outputs": [],
   "source": [
    "df['age'] = df['age'].astype('int')"
   ]
  },
  {
   "cell_type": "code",
   "execution_count": 27,
   "id": "5fbaff4e",
   "metadata": {},
   "outputs": [
    {
     "name": "stdout",
     "output_type": "stream",
     "text": [
      "<class 'pandas.core.frame.DataFrame'>\n",
      "Int64Index: 5110 entries, 9046 to 44679\n",
      "Data columns (total 11 columns):\n",
      " #   Column             Non-Null Count  Dtype   \n",
      "---  ------             --------------  -----   \n",
      " 0   gender             5110 non-null   category\n",
      " 1   age                5110 non-null   int32   \n",
      " 2   hypertension       5110 non-null   category\n",
      " 3   heart_disease      5110 non-null   category\n",
      " 4   ever_married       5110 non-null   category\n",
      " 5   work_type          5110 non-null   category\n",
      " 6   residence_type     5110 non-null   category\n",
      " 7   avg_glucose_level  5110 non-null   float64 \n",
      " 8   bmi                5110 non-null   float64 \n",
      " 9   smoking_status     5110 non-null   category\n",
      " 10  stroke             5110 non-null   category\n",
      "dtypes: category(8), float64(2), int32(1)\n",
      "memory usage: 309.8 KB\n"
     ]
    }
   ],
   "source": [
    "df.info()"
   ]
  },
  {
   "cell_type": "markdown",
   "id": "eb67c5b9",
   "metadata": {},
   "source": [
    "#### Sprawdzenie czy w zbiorze występują wartości odstające"
   ]
  },
  {
   "cell_type": "code",
   "execution_count": 28,
   "id": "a57fa5f3",
   "metadata": {},
   "outputs": [
    {
     "data": {
      "text/plain": [
       "Text(0.5, 1.0, 'Boxplot dla wszystkich zmiennych')"
      ]
     },
     "execution_count": 28,
     "metadata": {},
     "output_type": "execute_result"
    },
    {
     "data": {
      "image/png": "[encoded data removed]",
      "text/plain": [
       "<Figure size 900x900 with 1 Axes>"
      ]
     },
     "metadata": {},
     "output_type": "display_data"
    }
   ],
   "source": [
    "sns.boxplot(data=df)\n",
    "plt.xticks(rotation=90)\n",
    "plt.title('Boxplot dla wszystkich zmiennych')"
   ]
  },
  {
   "cell_type": "markdown",
   "id": "6d85ff7b",
   "metadata": {},
   "source": [
    "#### Przyjrzyjmy się bliżej kolumnom 'avg_glucose_level' oraz 'bmi'"
   ]
  },
  {
   "cell_type": "markdown",
   "id": "2aefade9",
   "metadata": {},
   "source": [
    "##### 'avg_glucose_level'"
   ]
  },
  {
   "cell_type": "code",
   "execution_count": 29,
   "id": "77e3aa38",
   "metadata": {},
   "outputs": [
    {
     "data": {
      "text/plain": [
       "Text(0.5, 1.0, 'Rozkład danych poziomu glukozy')"
      ]
     },
     "execution_count": 29,
     "metadata": {},
     "output_type": "execute_result"
    },
    {
     "data": {
      "image/png": "[encoded data removed]",
      "text/plain": [
       "<Figure size 900x900 with 1 Axes>"
      ]
     },
     "metadata": {},
     "output_type": "display_data"
    }
   ],
   "source": [
    "sns.histplot(data=df, x='avg_glucose_level')\n",
    "plt.title('Rozkład danych poziomu glukozy')"
   ]
  },
  {
   "cell_type": "markdown",
   "id": "c6719d93",
   "metadata": {},
   "source": [
    "Sprawdzenie rozkładu zmiennej celu dla potencjalnych outlierów sugerowanych przez metodę IQR"
   ]
  },
  {
   "cell_type": "code",
   "execution_count": 30,
   "id": "94b95ead",
   "metadata": {},
   "outputs": [
    {
     "data": {
      "text/plain": [
       "Text(0.5, 1.0, 'Ilość \"stroke\" dla danych, gdzie poziom glukozy > 160')"
      ]
     },
     "execution_count": 30,
     "metadata": {},
     "output_type": "execute_result"
    },
    {
     "data": {
      "image/png": "[encoded data removed]",
      "text/plain": [
       "<Figure size 900x900 with 1 Axes>"
      ]
     },
     "metadata": {},
     "output_type": "display_data"
    }
   ],
   "source": [
    "sns.countplot(data=df.query('avg_glucose_level > 160'), x='stroke', hue='stroke')\n",
    "plt.title('Ilość \"stroke\" dla danych, gdzie poziom glukozy > 160')"
   ]
  },
  {
   "cell_type": "markdown",
   "id": "01119226",
   "metadata": {},
   "source": [
    "Jak widać zasugerowanie się wartościami odstającymi pokazanymi przez boxplot wyeliminowało by ze zbioru znaczną część danych zmiennej celu, w których miał miejsce udar (~100/249)"
   ]
  },
  {
   "cell_type": "code",
   "execution_count": 31,
   "id": "dfdc131f",
   "metadata": {},
   "outputs": [
    {
     "data": {
      "text/plain": [
       "Text(0.5, 1.0, 'Ilość \"stroke\" dla danych, gdzie poziom glukozy > 250')"
      ]
     },
     "execution_count": 31,
     "metadata": {},
     "output_type": "execute_result"
    },
    {
     "data": {
      "image/png": "[encoded data removed]",
      "text/plain": [
       "<Figure size 900x900 with 1 Axes>"
      ]
     },
     "metadata": {},
     "output_type": "display_data"
    }
   ],
   "source": [
    "sns.countplot(data=df.query('avg_glucose_level > 250'), x='stroke', hue='stroke')\n",
    "plt.title('Ilość \"stroke\" dla danych, gdzie poziom glukozy > 250')"
   ]
  },
  {
   "cell_type": "markdown",
   "id": "f429ac96",
   "metadata": {},
   "source": [
    "Nawet wybierając skrajne wartości poziomu glukozy jak 250, dla 25 rekordów aż 5 posiada odnotowany udar. Ponieważ zmienna celu jest niezbalansowana (249 udarów na 5110 rekordów), postanawiam nie usuwać tych danych jako outliery, aby nie tracić danych zawierających pozytywnie odnotowany udar"
   ]
  },
  {
   "cell_type": "markdown",
   "id": "f8651726",
   "metadata": {},
   "source": [
    "##### 'bmi'"
   ]
  },
  {
   "cell_type": "code",
   "execution_count": 32,
   "id": "187eef32",
   "metadata": {},
   "outputs": [
    {
     "data": {
      "text/plain": [
       "Text(0.5, 1.0, 'Rozkład danych wartości bmi')"
      ]
     },
     "execution_count": 32,
     "metadata": {},
     "output_type": "execute_result"
    },
    {
     "data": {
      "image/png": "[encoded data removed]",
      "text/plain": [
       "<Figure size 900x900 with 1 Axes>"
      ]
     },
     "metadata": {},
     "output_type": "display_data"
    }
   ],
   "source": [
    "sns.histplot(data=df, x='bmi')\n",
    "plt.title('Rozkład danych wartości bmi')"
   ]
  },
  {
   "cell_type": "code",
   "execution_count": 33,
   "id": "371baec3",
   "metadata": {},
   "outputs": [
    {
     "data": {
      "text/plain": [
       "Text(0.5, 1.0, 'Ilość \"stroke\" dla danych, gdzie wartość bmi > 46')"
      ]
     },
     "execution_count": 33,
     "metadata": {},
     "output_type": "execute_result"
    },
    {
     "data": {
      "image/png": "[encoded data removed]",
      "text/plain": [
       "<Figure size 900x900 with 1 Axes>"
      ]
     },
     "metadata": {},
     "output_type": "display_data"
    }
   ],
   "source": [
    "sns.countplot(data=df.query('bmi > 46'), x='stroke', hue='stroke')\n",
    "plt.title('Ilość \"stroke\" dla danych, gdzie wartość bmi > 46')"
   ]
  },
  {
   "cell_type": "markdown",
   "id": "63d9ac6b",
   "metadata": {},
   "source": [
    "W wypadku kolumny 'bmi' usunięcie wartości odstających wskazanych przez wykres pudełkowy (metoda IQR) spowoduje usunięcie nielicznej ilości rekordów zmiennej celu, gdzie odnotowano udar, dlatego podjąłem decyzję o usunięciu tych danych jako outliery."
   ]
  },
  {
   "cell_type": "code",
   "execution_count": 34,
   "id": "71eec8da",
   "metadata": {},
   "outputs": [],
   "source": [
    "outlier_mask = df['bmi'] > 46"
   ]
  },
  {
   "cell_type": "code",
   "execution_count": 35,
   "id": "933b6a8f",
   "metadata": {},
   "outputs": [],
   "source": [
    "df = df[~outlier_mask]"
   ]
  },
  {
   "cell_type": "markdown",
   "id": "0cce5c2e",
   "metadata": {},
   "source": [
    "### Rozkład zmiennej celu"
   ]
  },
  {
   "cell_type": "code",
   "execution_count": 36,
   "id": "f9477cc8",
   "metadata": {},
   "outputs": [
    {
     "data": {
      "text/plain": [
       "<AxesSubplot:xlabel='stroke', ylabel='count'>"
      ]
     },
     "execution_count": 36,
     "metadata": {},
     "output_type": "execute_result"
    },
    {
     "data": {
      "image/png": "[encoded data removed]",
      "text/plain": [
       "<Figure size 900x900 with 1 Axes>"
      ]
     },
     "metadata": {},
     "output_type": "display_data"
    }
   ],
   "source": [
    "sns.countplot(data=df, x='stroke', hue='stroke')"
   ]
  },
  {
   "cell_type": "code",
   "execution_count": 37,
   "id": "ca1e16c7",
   "metadata": {},
   "outputs": [
    {
     "data": {
      "text/plain": [
       "4.938767315800041"
      ]
     },
     "execution_count": 37,
     "metadata": {},
     "output_type": "execute_result"
    }
   ],
   "source": [
    "(len(df[df['stroke'] == 1]) / len(df)) * 100"
   ]
  },
  {
   "cell_type": "markdown",
   "id": "be479f64",
   "metadata": {},
   "source": [
    "Dane, w których odnotowano wystąpienia udaru stanowią niecałe 5% danych, dlatego też nasz zbiór jest niezbalansowany. Będziemy musieli dobrać w związku z tym odpowiednią strategię do uczenia modelu, napewno będziemy musieli zadbać, żeby odpowiednia statystyka pojawiła się w zbiorze walidacyjnym (słowo kluczowe: stratify)"
   ]
  },
  {
   "cell_type": "markdown",
   "id": "e4705522",
   "metadata": {},
   "source": [
    "## Modelowanie danych"
   ]
  },
  {
   "cell_type": "markdown",
   "id": "4b70b619",
   "metadata": {},
   "source": [
    "### Podzielenie danych na predyktory i zmienną celu"
   ]
  },
  {
   "cell_type": "code",
   "execution_count": 38,
   "id": "2b102b09",
   "metadata": {},
   "outputs": [],
   "source": [
    "X = df.iloc[:, :-1]\n",
    "y = df.iloc[:, -1]"
   ]
  },
  {
   "cell_type": "markdown",
   "id": "51b98e20",
   "metadata": {},
   "source": [
    "### Wyznaczenie zbioru treningowego i testowego"
   ]
  },
  {
   "cell_type": "code",
   "execution_count": 39,
   "id": "33cd3a38",
   "metadata": {},
   "outputs": [],
   "source": [
    "X_train, X_test, y_train, y_test = train_test_split(X, y, test_size=0.2, random_state=rng, stratify=y)"
   ]
  },
  {
   "cell_type": "markdown",
   "id": "998005c3",
   "metadata": {},
   "source": [
    "##### Następnie sprawdzam czy zachowane zostały proporcje rozkładu zmiennej celu (oryginalnie rekordy, w których odnotowano udar stanowiły 4,93% danych)"
   ]
  },
  {
   "cell_type": "code",
   "execution_count": 40,
   "id": "9bc02a64",
   "metadata": {},
   "outputs": [
    {
     "data": {
      "text/plain": [
       "4.914744232698094"
      ]
     },
     "execution_count": 40,
     "metadata": {},
     "output_type": "execute_result"
    }
   ],
   "source": [
    "len(y_test[y_test==1]) / len(y_test) * 100"
   ]
  },
  {
   "cell_type": "markdown",
   "id": "25d22c81",
   "metadata": {},
   "source": [
    "Proporcje zachowane, więc można przejść dalej"
   ]
  },
  {
   "cell_type": "markdown",
   "id": "3101320f",
   "metadata": {},
   "source": [
    "### Wybór modelu"
   ]
  },
  {
   "cell_type": "markdown",
   "id": "8c19c96f",
   "metadata": {},
   "source": [
    "Zacznijmy od wstępnej oceny modeli, tuningiem hiperparametrów zajmiemy się później. Stwórzmy kilka modeli i wybierzmy najbardziej obiecujący z nich:\n",
    "\n",
    "    Baseline:\n",
    "        uniform: zgadywanie z jednakowym prawdopodobieństwem\n",
    "        strarified: zgadywanie z prawdopodobieństwem odpowiadającym rozłożeniu klas\n",
    "        majority: zgadywanie, zawsze podawana jest klasa większościowa (w tym przypadku osoby bez udaru)\n",
    "        \n",
    "    LogisticRegression:\n",
    "        Najprostszy i najbardziej oczywisty model do zastosowania w klasyfikacji binarnej\n",
    "        \n",
    "    DecisionTree:\n",
    "        Prosty w interpretacji klasyfikator, wytypowany w rozważaniach nad zbiorem niezbalansowanym\n",
    "        \n",
    "    RandomForrest:\n",
    "        Klasyfikator wytypowany w rozważaniach nad zbiorem niezbalansowanym\n",
    "        \n",
    "    GradientBoosting:\n",
    "        Klasyfikator wytypowany w rozważaniach nad zbiorem niezbalansowanym\n",
    "        \n",
    "Modele Baseline posłużą nam jako punkt odniesienia. Nie możemy zejść poniżej wyników uzyskiwanych przez te modele, ponieważ w takim przypadku bardziej opłacalne byłoby zgadywanie."
   ]
  },
  {
   "cell_type": "code",
   "execution_count": 41,
   "id": "cdc09e62",
   "metadata": {},
   "outputs": [],
   "source": [
    "models = {\n",
    "    \"Baseline-uniform\": DummyClassifier(strategy=\"uniform\", random_state=seed),\n",
    "    \"Baseline-stratified\": DummyClassifier(\n",
    "        strategy=\"stratified\", random_state=seed\n",
    "    ),\n",
    "    \"Baseline-majority\": DummyClassifier(\n",
    "        strategy=\"most_frequent\", random_state=seed\n",
    "    ),\n",
    "    \"LogisticRegression\": LogisticRegression(\n",
    "        class_weight=\"balanced\",random_state=seed,\n",
    "        max_iter=1000,\n",
    "        # musiałem podbić max_iter do 1000,\n",
    "        # inaczej ConvergenceWarning:\n",
    "        #    lbfgs failed to converge (status=1): STOP: TOTAL NO. of ITERATIONS REACHED LIMIT.\n",
    "    ),\n",
    "    \"DecisionTree\": DecisionTreeClassifier(\n",
    "        random_state=seed, class_weight=\"balanced\"\n",
    "    ),\n",
    "    \"GradientBoostingClassifier\": GradientBoostingClassifier(random_state=seed),\n",
    "    \"RandomForrest\": RandomForestClassifier(\n",
    "        random_state=seed, class_weight='balanced'\n",
    "    ),\n",
    "}"
   ]
  },
  {
   "cell_type": "markdown",
   "id": "706837d4",
   "metadata": {},
   "source": [
    "##### Zastanówmy się chwilę nad metrykami. Na których nam zależy? Co chcemy zmaksymalizować?\n",
    "\n",
    "Accuracy:\n",
    "    \n",
    "    Metryka bezużyteczna w naszym zbiorze (niezbalansowany), tylko zgadując na podstawie klasy większościowej uzyskamy wynik 95%\n",
    "\n",
    "Precision:\n",
    "    \n",
    "    Metryka, którą prawdopodobnie chcielibyśmy zmaksymalizować w celu minimalizacji błędu I rodzaju (predykcja udaru dla osoby bez udaru. Liczona wzorem True Positive / (True Positive + False Positive)\n",
    "    \n",
    "Recall:\n",
    "    \n",
    "    Metryka, którą prawdopodobnie także chcielibyśmy zmaksymalizować w celu minimalizacji błędu II rodzaju (predykcja braku udaru dla osoby z udarem. Liczona wzorem True Positive / (True Positive + False Negative)\n",
    "Ściągawka dla False Negative i False Positive:\n",
    "\n",
    "\n",
    "|  | Rzeczywisty udar (1) | Rzeczywisty brak udaru (0) |\n",
    "| :- | -: | :-: |\n",
    "| Predykcja udar (1) | True Positive | False Positive |\n",
    "| Predykcja brak udaru (0) | False Negative | True Negative \n",
    "\n",
    "\n",
    "\n",
    "Błąd I rodzaju: False Positive\n",
    "\n",
    "Błąd II rodzaju: False Negative\n",
    "\n",
    "\n",
    "Wybierając tylko jedną z tych metryk prawdopodobnie możemy skończyć maksymalizując jedną, i bardzo zmniejszając drugą. Z pomocą przychodzi nam metryka Fbeta, która jest średnią harmoniczną z Precision i Recall, może pomóc zmaksymalizować obie naraz. Mamy kilka metryk rodzajów Fbeta: (opisy na podstawie: https://machinelearningmastery.com/fbeta-measure-for-machine-learning/)\n",
    "\n",
    "F05\n",
    "\n",
    "    bardziej zależy nam na Recall\n",
    "    przydatne, gdy chcemy zminimalizować liczbę False Positives\n",
    "        tzn. mniej zdrowych pacjentów z predykcją udaru\n",
    "\n",
    "F1\n",
    "\n",
    "    Recall i Precision są tak samo istotne\n",
    "    czyli próbujemy zminilaizować zarówno błędy I rodzaju jak i II rodzaju\n",
    "\n",
    "F2\n",
    "\n",
    "    Precision jest ważniejsze od Recall\n",
    "    Przydatne, gdy chcemy zminializować liczbę False Negatives\n",
    "    tzn. mniej osób z udarem oznaczanych jako osoby zdrowe (bez udaru)\n",
    "\n",
    "W dalszej części projektu skupimy się na maksymalizacji F1.\n",
    "\n",
    "Mimo wyboru metryki, zeewalujumy modele na wszystkich - edukacyjnie, sprawdźmy jak się zachowują.\n"
   ]
  },
  {
   "cell_type": "markdown",
   "id": "6d4f7039",
   "metadata": {},
   "source": [
    "#### Ewaluacja modeli z domyślnymi parametrami na wskazanych metrykach"
   ]
  },
  {
   "cell_type": "code",
   "execution_count": 42,
   "id": "efe8fe18",
   "metadata": {},
   "outputs": [],
   "source": [
    "def fit_classifier(alg, X_train, X_test, y_train, y_test):\n",
    "    alg.fit(X_train, y_train)\n",
    "    y_pred_train = alg.predict(X_train)\n",
    "    y_pred_test = alg.predict(X_test)\n",
    "    \n",
    "    return {\n",
    "        \"ACC_train\":round(accuracy_score(y_train, y_pred_train),2),\n",
    "        \"ACC_test\": round(accuracy_score(y_test, y_pred_test),2),\n",
    "        \"P_train\":  round(precision_score(y_train, y_pred_train, zero_division=0),2),\n",
    "        \"P_test\":   round(precision_score(y_test, y_pred_test, zero_division=0),2),\n",
    "        \"R_train\":  round(recall_score(y_train, y_pred_train, zero_division=0),2),\n",
    "        \"R_test\":   round(recall_score(y_test, y_pred_test, zero_division=0),2),\n",
    "        \"F05_train\":round(fbeta_score(y_train, y_pred_train, beta=0.5, zero_division=0),2),\n",
    "        \"F05_test\": round(fbeta_score(y_test, y_pred_test, beta=0.5, zero_division=0),2),\n",
    "        \"F1_train\": round(f1_score(y_train, y_pred_train, zero_division=0),2),\n",
    "        \"F1_test\":  round(f1_score(y_test, y_pred_test, zero_division=0),2),\n",
    "        \"F2_train\": round(fbeta_score(y_train, y_pred_train, beta=2, zero_division=0),2),\n",
    "        \"F2_test\":  round(fbeta_score(y_test, y_pred_test, beta=2, zero_division=0),2)\n",
    "    }"
   ]
  },
  {
   "cell_type": "code",
   "execution_count": 43,
   "id": "b2afad1f",
   "metadata": {},
   "outputs": [],
   "source": [
    "results = pd.DataFrame()\n",
    "for name, model in models.items():\n",
    "    params = [name]\n",
    "    res = [fit_classifier(model,\n",
    "                          X_train, X_test, y_train, y_test)]\n",
    "    df_results = pd.DataFrame(res, index=params)\n",
    "    results = results._append(df_results)"
   ]
  },
  {
   "cell_type": "code",
   "execution_count": 44,
   "id": "4f7cd136",
   "metadata": {},
   "outputs": [
    {
     "data": {
      "text/html": [
       "<div>\n",
       "<style scoped>\n",
       "    .dataframe tbody tr th:only-of-type {\n",
       "        vertical-align: middle;\n",
       "    }\n",
       "\n",
       "    .dataframe tbody tr th {\n",
       "        vertical-align: top;\n",
       "    }\n",
       "\n",
       "    .dataframe thead th {\n",
       "        text-align: right;\n",
       "    }\n",
       "</style>\n",
       "<table border=\"1\" class=\"dataframe\">\n",
       "  <thead>\n",
       "    <tr style=\"text-align: right;\">\n",
       "      <th></th>\n",
       "      <th>ACC_train</th>\n",
       "      <th>ACC_test</th>\n",
       "      <th>P_train</th>\n",
       "      <th>P_test</th>\n",
       "      <th>R_train</th>\n",
       "      <th>R_test</th>\n",
       "      <th>F05_train</th>\n",
       "      <th>F05_test</th>\n",
       "      <th>F1_train</th>\n",
       "      <th>F1_test</th>\n",
       "      <th>F2_train</th>\n",
       "      <th>F2_test</th>\n",
       "    </tr>\n",
       "  </thead>\n",
       "  <tbody>\n",
       "    <tr>\n",
       "      <th>LogisticRegression</th>\n",
       "      <td>0.74</td>\n",
       "      <td>0.73</td>\n",
       "      <td>0.14</td>\n",
       "      <td>0.12</td>\n",
       "      <td>0.82</td>\n",
       "      <td>0.71</td>\n",
       "      <td>0.17</td>\n",
       "      <td>0.14</td>\n",
       "      <td>0.24</td>\n",
       "      <td>0.21</td>\n",
       "      <td>0.42</td>\n",
       "      <td>0.36</td>\n",
       "    </tr>\n",
       "    <tr>\n",
       "      <th>DecisionTree</th>\n",
       "      <td>1.00</td>\n",
       "      <td>0.92</td>\n",
       "      <td>1.00</td>\n",
       "      <td>0.15</td>\n",
       "      <td>1.00</td>\n",
       "      <td>0.14</td>\n",
       "      <td>1.00</td>\n",
       "      <td>0.15</td>\n",
       "      <td>1.00</td>\n",
       "      <td>0.14</td>\n",
       "      <td>1.00</td>\n",
       "      <td>0.14</td>\n",
       "    </tr>\n",
       "    <tr>\n",
       "      <th>GradientBoostingClassifier</th>\n",
       "      <td>0.96</td>\n",
       "      <td>0.95</td>\n",
       "      <td>1.00</td>\n",
       "      <td>0.50</td>\n",
       "      <td>0.17</td>\n",
       "      <td>0.04</td>\n",
       "      <td>0.50</td>\n",
       "      <td>0.15</td>\n",
       "      <td>0.29</td>\n",
       "      <td>0.08</td>\n",
       "      <td>0.20</td>\n",
       "      <td>0.05</td>\n",
       "    </tr>\n",
       "    <tr>\n",
       "      <th>Baseline-stratified</th>\n",
       "      <td>0.90</td>\n",
       "      <td>0.91</td>\n",
       "      <td>0.05</td>\n",
       "      <td>0.07</td>\n",
       "      <td>0.05</td>\n",
       "      <td>0.06</td>\n",
       "      <td>0.05</td>\n",
       "      <td>0.07</td>\n",
       "      <td>0.05</td>\n",
       "      <td>0.07</td>\n",
       "      <td>0.05</td>\n",
       "      <td>0.06</td>\n",
       "    </tr>\n",
       "    <tr>\n",
       "      <th>Baseline-uniform</th>\n",
       "      <td>0.50</td>\n",
       "      <td>0.48</td>\n",
       "      <td>0.05</td>\n",
       "      <td>0.03</td>\n",
       "      <td>0.54</td>\n",
       "      <td>0.33</td>\n",
       "      <td>0.06</td>\n",
       "      <td>0.04</td>\n",
       "      <td>0.10</td>\n",
       "      <td>0.06</td>\n",
       "      <td>0.19</td>\n",
       "      <td>0.11</td>\n",
       "    </tr>\n",
       "    <tr>\n",
       "      <th>RandomForrest</th>\n",
       "      <td>1.00</td>\n",
       "      <td>0.95</td>\n",
       "      <td>1.00</td>\n",
       "      <td>0.25</td>\n",
       "      <td>0.99</td>\n",
       "      <td>0.02</td>\n",
       "      <td>1.00</td>\n",
       "      <td>0.08</td>\n",
       "      <td>1.00</td>\n",
       "      <td>0.04</td>\n",
       "      <td>1.00</td>\n",
       "      <td>0.02</td>\n",
       "    </tr>\n",
       "    <tr>\n",
       "      <th>Baseline-majority</th>\n",
       "      <td>0.95</td>\n",
       "      <td>0.95</td>\n",
       "      <td>0.00</td>\n",
       "      <td>0.00</td>\n",
       "      <td>0.00</td>\n",
       "      <td>0.00</td>\n",
       "      <td>0.00</td>\n",
       "      <td>0.00</td>\n",
       "      <td>0.00</td>\n",
       "      <td>0.00</td>\n",
       "      <td>0.00</td>\n",
       "      <td>0.00</td>\n",
       "    </tr>\n",
       "  </tbody>\n",
       "</table>\n",
       "</div>"
      ],
      "text/plain": [
       "                            ACC_train  ACC_test  P_train  P_test  R_train  \\\n",
       "LogisticRegression               0.74      0.73     0.14    0.12     0.82   \n",
       "DecisionTree                     1.00      0.92     1.00    0.15     1.00   \n",
       "GradientBoostingClassifier       0.96      0.95     1.00    0.50     0.17   \n",
       "Baseline-stratified              0.90      0.91     0.05    0.07     0.05   \n",
       "Baseline-uniform                 0.50      0.48     0.05    0.03     0.54   \n",
       "RandomForrest                    1.00      0.95     1.00    0.25     0.99   \n",
       "Baseline-majority                0.95      0.95     0.00    0.00     0.00   \n",
       "\n",
       "                            R_test  F05_train  F05_test  F1_train  F1_test  \\\n",
       "LogisticRegression            0.71       0.17      0.14      0.24     0.21   \n",
       "DecisionTree                  0.14       1.00      0.15      1.00     0.14   \n",
       "GradientBoostingClassifier    0.04       0.50      0.15      0.29     0.08   \n",
       "Baseline-stratified           0.06       0.05      0.07      0.05     0.07   \n",
       "Baseline-uniform              0.33       0.06      0.04      0.10     0.06   \n",
       "RandomForrest                 0.02       1.00      0.08      1.00     0.04   \n",
       "Baseline-majority             0.00       0.00      0.00      0.00     0.00   \n",
       "\n",
       "                            F2_train  F2_test  \n",
       "LogisticRegression              0.42     0.36  \n",
       "DecisionTree                    1.00     0.14  \n",
       "GradientBoostingClassifier      0.20     0.05  \n",
       "Baseline-stratified             0.05     0.06  \n",
       "Baseline-uniform                0.19     0.11  \n",
       "RandomForrest                   1.00     0.02  \n",
       "Baseline-majority               0.00     0.00  "
      ]
     },
     "execution_count": 44,
     "metadata": {},
     "output_type": "execute_result"
    }
   ],
   "source": [
    "results.sort_values(['F1_test'], ascending=False)"
   ]
  },
  {
   "cell_type": "markdown",
   "id": "7f63359c",
   "metadata": {},
   "source": [
    "Jak widać model LogisticRegression poradził sobie najlepiej dla metryki F1, dodatkowo uzyskał znacznie lepsze wyniki dla metryk jak Recall, a do tego nie występuje tu zjawisko overfittingu. W dalszej części projektu zajmiemy się optymalizacją parametrów dla tego modelu."
   ]
  },
  {
   "cell_type": "code",
   "execution_count": 45,
   "id": "705b66be",
   "metadata": {},
   "outputs": [],
   "source": [
    "logreg = LogisticRegression(class_weight=\"balanced\", random_state=seed, max_iter=1000)"
   ]
  },
  {
   "cell_type": "code",
   "execution_count": 46,
   "id": "2c2046b8",
   "metadata": {},
   "outputs": [
    {
     "data": {
      "text/html": [
       "<style>#sk-container-id-1 {color: black;}#sk-container-id-1 pre{padding: 0;}#sk-container-id-1 div.sk-toggleable {background-color: white;}#sk-container-id-1 label.sk-toggleable__label {cursor: pointer;display: block;width: 100%;margin-bottom: 0;padding: 0.3em;box-sizing: border-box;text-align: center;}#sk-container-id-1 label.sk-toggleable__label-arrow:before {content: \"▸\";float: left;margin-right: 0.25em;color: #696969;}#sk-container-id-1 label.sk-toggleable__label-arrow:hover:before {color: black;}#sk-container-id-1 div.sk-estimator:hover label.sk-toggleable__label-arrow:before {color: black;}#sk-container-id-1 div.sk-toggleable__content {max-height: 0;max-width: 0;overflow: hidden;text-align: left;background-color: #f0f8ff;}#sk-container-id-1 div.sk-toggleable__content pre {margin: 0.2em;color: black;border-radius: 0.25em;background-color: #f0f8ff;}#sk-container-id-1 input.sk-toggleable__control:checked~div.sk-toggleable__content {max-height: 200px;max-width: 100%;overflow: auto;}#sk-container-id-1 input.sk-toggleable__control:checked~label.sk-toggleable__label-arrow:before {content: \"▾\";}#sk-container-id-1 div.sk-estimator input.sk-toggleable__control:checked~label.sk-toggleable__label {background-color: #d4ebff;}#sk-container-id-1 div.sk-label input.sk-toggleable__control:checked~label.sk-toggleable__label {background-color: #d4ebff;}#sk-container-id-1 input.sk-hidden--visually {border: 0;clip: rect(1px 1px 1px 1px);clip: rect(1px, 1px, 1px, 1px);height: 1px;margin: -1px;overflow: hidden;padding: 0;position: absolute;width: 1px;}#sk-container-id-1 div.sk-estimator {font-family: monospace;background-color: #f0f8ff;border: 1px dotted black;border-radius: 0.25em;box-sizing: border-box;margin-bottom: 0.5em;}#sk-container-id-1 div.sk-estimator:hover {background-color: #d4ebff;}#sk-container-id-1 div.sk-parallel-item::after {content: \"\";width: 100%;border-bottom: 1px solid gray;flex-grow: 1;}#sk-container-id-1 div.sk-label:hover label.sk-toggleable__label {background-color: #d4ebff;}#sk-container-id-1 div.sk-serial::before {content: \"\";position: absolute;border-left: 1px solid gray;box-sizing: border-box;top: 0;bottom: 0;left: 50%;z-index: 0;}#sk-container-id-1 div.sk-serial {display: flex;flex-direction: column;align-items: center;background-color: white;padding-right: 0.2em;padding-left: 0.2em;position: relative;}#sk-container-id-1 div.sk-item {position: relative;z-index: 1;}#sk-container-id-1 div.sk-parallel {display: flex;align-items: stretch;justify-content: center;background-color: white;position: relative;}#sk-container-id-1 div.sk-item::before, #sk-container-id-1 div.sk-parallel-item::before {content: \"\";position: absolute;border-left: 1px solid gray;box-sizing: border-box;top: 0;bottom: 0;left: 50%;z-index: -1;}#sk-container-id-1 div.sk-parallel-item {display: flex;flex-direction: column;z-index: 1;position: relative;background-color: white;}#sk-container-id-1 div.sk-parallel-item:first-child::after {align-self: flex-end;width: 50%;}#sk-container-id-1 div.sk-parallel-item:last-child::after {align-self: flex-start;width: 50%;}#sk-container-id-1 div.sk-parallel-item:only-child::after {width: 0;}#sk-container-id-1 div.sk-dashed-wrapped {border: 1px dashed gray;margin: 0 0.4em 0.5em 0.4em;box-sizing: border-box;padding-bottom: 0.4em;background-color: white;}#sk-container-id-1 div.sk-label label {font-family: monospace;font-weight: bold;display: inline-block;line-height: 1.2em;}#sk-container-id-1 div.sk-label-container {text-align: center;}#sk-container-id-1 div.sk-container {/* jupyter's `normalize.less` sets `[hidden] { display: none; }` but bootstrap.min.css set `[hidden] { display: none !important; }` so we also need the `!important` here to be able to override the default hidden behavior on the sphinx rendered scikit-learn.org. See: https://github.com/scikit-learn/scikit-learn/issues/21755 */display: inline-block !important;position: relative;}#sk-container-id-1 div.sk-text-repr-fallback {display: none;}</style><div id=\"sk-container-id-1\" class=\"sk-top-container\"><div class=\"sk-text-repr-fallback\"><pre>LogisticRegression(class_weight=&#x27;balanced&#x27;, max_iter=1000,\n",
       "                   random_state=RandomState(MT19937) at 0x1C3020E7040)</pre><b>In a Jupyter environment, please rerun this cell to show the HTML representation or trust the notebook. <br />On GitHub, the HTML representation is unable to render, please try loading this page with nbviewer.org.</b></div><div class=\"sk-container\" hidden><div class=\"sk-item\"><div class=\"sk-estimator sk-toggleable\"><input class=\"sk-toggleable__control sk-hidden--visually\" id=\"sk-estimator-id-1\" type=\"checkbox\" checked><label for=\"sk-estimator-id-1\" class=\"sk-toggleable__label sk-toggleable__label-arrow\">LogisticRegression</label><div class=\"sk-toggleable__content\"><pre>LogisticRegression(class_weight=&#x27;balanced&#x27;, max_iter=1000,\n",
       "                   random_state=RandomState(MT19937) at 0x1C3020E7040)</pre></div></div></div></div></div>"
      ],
      "text/plain": [
       "LogisticRegression(class_weight='balanced', max_iter=1000,\n",
       "                   random_state=RandomState(MT19937) at 0x1C3020E7040)"
      ]
     },
     "execution_count": 46,
     "metadata": {},
     "output_type": "execute_result"
    }
   ],
   "source": [
    "logreg.fit(X, y)"
   ]
  },
  {
   "cell_type": "code",
   "execution_count": 47,
   "id": "42d15ac3",
   "metadata": {},
   "outputs": [],
   "source": [
    "y_pred_train = logreg.predict(X_train)\n",
    "y_pred_test = logreg.predict(X_test)"
   ]
  },
  {
   "cell_type": "code",
   "execution_count": 48,
   "id": "4b1b2ade",
   "metadata": {},
   "outputs": [
    {
     "data": {
      "text/plain": [
       "Text(0.5, 1.0, 'Confusion matrix dla zbioru treningowego')"
      ]
     },
     "execution_count": 48,
     "metadata": {},
     "output_type": "execute_result"
    },
    {
     "data": {
      "image/png": "[encoded data removed]",
      "text/plain": [
       "<Figure size 900x900 with 2 Axes>"
      ]
     },
     "metadata": {},
     "output_type": "display_data"
    }
   ],
   "source": [
    "cm = confusion_matrix(y_train, y_pred_train)\n",
    "disp = ConfusionMatrixDisplay(confusion_matrix=cm)\n",
    "disp.plot()\n",
    "plt.title('Confusion matrix dla zbioru treningowego')"
   ]
  },
  {
   "cell_type": "code",
   "execution_count": 49,
   "id": "dfe91c51",
   "metadata": {},
   "outputs": [
    {
     "data": {
      "text/plain": [
       "Text(0.5, 1.0, 'Confusion matrix dla zbioru testowego')"
      ]
     },
     "execution_count": 49,
     "metadata": {},
     "output_type": "execute_result"
    },
    {
     "data": {
      "image/png": "[encoded data removed]",
      "text/plain": [
       "<Figure size 900x900 with 2 Axes>"
      ]
     },
     "metadata": {},
     "output_type": "display_data"
    }
   ],
   "source": [
    "cm = confusion_matrix(y_test, y_pred_test)\n",
    "disp = ConfusionMatrixDisplay(confusion_matrix=cm)\n",
    "disp.plot()\n",
    "plt.title('Confusion matrix dla zbioru testowego')"
   ]
  },
  {
   "cell_type": "markdown",
   "id": "6e1fa768",
   "metadata": {},
   "source": [
    "Po analizie macierzy błędów można zauważyć, że predykcja wyników przynosi bardzo dużo błędów I rodzaju (czyli osoby zdrowe, którym przewidujemy udar), stąd też słaby wynik metryki Precision, który przekłada się na pogorszenie wyników metryk fbeta.\n",
    "\n",
    "W dalszej optymalizacji hiperparametrów modelu naszym celem będzie zmniejszenie ilości błędów I rodzaju, co wpłynie na polepszenie wyników metryk precision, a tym samym fbeta, a w szczególności metryki do której maksymalizacji dążymi, czyli f1."
   ]
  },
  {
   "cell_type": "markdown",
   "id": "52ba0c44",
   "metadata": {},
   "source": [
    "## Tuning Hiperparametrów"
   ]
  },
  {
   "cell_type": "code",
   "execution_count": 50,
   "id": "c0ecc28f",
   "metadata": {},
   "outputs": [
    {
     "data": {
      "text/plain": [
       "{'C': 1.0,\n",
       " 'class_weight': 'balanced',\n",
       " 'dual': False,\n",
       " 'fit_intercept': True,\n",
       " 'intercept_scaling': 1,\n",
       " 'l1_ratio': None,\n",
       " 'max_iter': 1000,\n",
       " 'multi_class': 'auto',\n",
       " 'n_jobs': None,\n",
       " 'penalty': 'l2',\n",
       " 'random_state': RandomState(MT19937) at 0x1C3020E7040,\n",
       " 'solver': 'lbfgs',\n",
       " 'tol': 0.0001,\n",
       " 'verbose': 0,\n",
       " 'warm_start': False}"
      ]
     },
     "execution_count": 50,
     "metadata": {},
     "output_type": "execute_result"
    }
   ],
   "source": [
    "logreg.get_params()"
   ]
  },
  {
   "cell_type": "code",
   "execution_count": 51,
   "id": "c9b9afba",
   "metadata": {},
   "outputs": [],
   "source": [
    "f1 = make_scorer(f1_score, zero_division=0)"
   ]
  },
  {
   "cell_type": "code",
   "execution_count": 52,
   "id": "af6c5f7e",
   "metadata": {},
   "outputs": [],
   "source": [
    "params = {\n",
    " 'C': np.logspace(-4, 4, 20),\n",
    " 'solver': ['lbfgs', 'newton-cg', 'liblinear', 'sag', 'saga', 'newton-cholesky'],\n",
    " 'penalty': ['l1', 'l2', 'elasticnet', None],\n",
    " 'max_iter': [1000, 2500, 5000]\n",
    "}"
   ]
  },
  {
   "cell_type": "code",
   "execution_count": 53,
   "id": "72c1909c",
   "metadata": {},
   "outputs": [],
   "source": [
    "#gs = GridSearchCV(logreg, params, scoring=f1).fit(X,y)"
   ]
  },
  {
   "cell_type": "code",
   "execution_count": 54,
   "id": "55fb88bb",
   "metadata": {},
   "outputs": [],
   "source": [
    "#best_params = gs.best_params_\n",
    "#best_params"
   ]
  },
  {
   "cell_type": "code",
   "execution_count": 55,
   "id": "b6cb742a",
   "metadata": {},
   "outputs": [],
   "source": [
    "#oryginalne parametry GridSearchCV (zakomentowane w celu redukcji czasu uruchamiania pliku)\n",
    "best_params = {'C': 0.004832930238571752, 'max_iter': 1000, 'penalty': 'l2', 'solver': 'sag'}"
   ]
  },
  {
   "cell_type": "code",
   "execution_count": 56,
   "id": "cdf93f57",
   "metadata": {},
   "outputs": [],
   "source": [
    "#gs.best_score_"
   ]
  },
  {
   "cell_type": "code",
   "execution_count": 57,
   "id": "f45112ba",
   "metadata": {},
   "outputs": [],
   "source": [
    "#oryginalny wynik GridSearchCV\n",
    "best_score = 0.24412638139237722"
   ]
  },
  {
   "cell_type": "markdown",
   "id": "da3536d8",
   "metadata": {},
   "source": [
    "Optymalizacja parametrów poprzez GridSearchCV nieznacznie zwiększyła wynik metryki f1"
   ]
  },
  {
   "cell_type": "markdown",
   "id": "2d943ea4",
   "metadata": {},
   "source": [
    "## Wnioski"
   ]
  },
  {
   "cell_type": "markdown",
   "id": "bfe19413",
   "metadata": {},
   "source": [
    "Mając do dyspozycji zbiór danych, w którym zmienna celu jest klasyfikacją binarną o proporcjach rozkładu 95/5, naturalną rzeczą jest, że jest się w stanie osiągać wysokie wyniki predykcji dla metryki accuracy i to też miało miejsce dla wielu modeli.\n",
    "Jednak taki wynik nie powinien nikogo satysfakcjonować. Dla dobra pacjentów nie powinno się cieszyć z sytuacji, w której każdą osobę definiujemy jako zdrową i szczycimy się 95% skutecznością, mimo że w rzeczywistości może mieć jakąś bardziej dotkliwą diagnozę.\n",
    "\n",
    "Powinno dążyć się do sytuacji, gdzie, albo celność predykcji to 100% albo minimalizować błędy I i II rodzaju.\n",
    "\n",
    "Dlatego też analizując model skupiono uwagę na metrykach Precision, Recall oraz F1. Wybrany model regresji logistycznej osiągał najwyższe wyniki dla Recall oraz F1, jednak wyniki Precision oraz F1 nie były satysfakcjonujące (kolejno 0.12 i 0.21).\n",
    "\n",
    "Model w satysfakcjonującym stopniu potrafił przewidzieć udar wśród osób, które faktycznie miały udar (mała ilość błędów II rodzaju, dlatego wynik metryki Recall wynosił dla zbioru testowego 0.71).\n",
    "Miał on jednak problemy z poprawnym przewidywaniem braku udaru wśród osób, które go faktycznie nie miały (tłumaczy to bardzo niski wynik Precision, a co za tym idzie F1).\n",
    "\n",
    "Idąc tym tropem, z dwojga złego można powiedzieć, że lepiej, aby model, który potencjalnie ma służyć jako narzędzie pomocnicze dla lekarza, alarmował o ryzyku udaru dla osób, u których faktycznie ono występuje, mimo że przy okazji ostrzeże o ryzyku dla kilku osób zdrowych, niżeli model miałby uznawać każdą osobę jako zdrową.\n",
    "\n",
    "Można by rzec, że lepiej zapobiegać niż leczyć, przez co oznakowanie osoby zdrowej jako osoby, która może mieć udar ma mniejsze konsekwencje niż oznakowanie osoby z udarem jako osoby bez ryzyka jego wystapienia.\n",
    "\n",
    "Podsumowując model może mieć problemy ze zdefiniowaniem osoby \"zdrowej\", może to wynikać z niewystarczającej ilości predyktorów, które pomogły by w tym zadaniu. Jednak spełnia swoją funkcję lepiej niż modele, które zakładają, że każda osoba jest bez ryzyka udaru (i tym samym mają 95% poprawnych predykcji), a dzieje się tak ze względu na to, że w 70% poprawnie przewiduje udar wśród osób, które rzeczywiście go miały. Mimo to, aby uzyskać model perfekcyjny, który osiągał by jeszcze lepsze, zadowalające wyniki, w zbiorze danych może brakować jeszcze kilku istotnych predyktorów.\n",
    "\n",
    "\n"
   ]
  }
 ],
 "metadata": {
  "kernelspec": {
   "display_name": "Python 3 (ipykernel)",
   "language": "python",
   "name": "python3"
  },
  "language_info": {
   "codemirror_mode": {
    "name": "ipython",
    "version": 3
   },
   "file_extension": ".py",
   "mimetype": "text/x-python",
   "name": "python",
   "nbconvert_exporter": "python",
   "pygments_lexer": "ipython3",
   "version": "3.10.9"
  }
 },
 "nbformat": 4,
 "nbformat_minor": 5
}
